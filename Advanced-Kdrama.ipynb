{
 "cells": [
  {
   "cell_type": "markdown",
   "id": "8e1c8c6c-3fb8-491d-b157-6da992865af7",
   "metadata": {},
   "source": [
    "# Advanced K-drama Recommendation System"
   ]
  },
  {
   "cell_type": "code",
   "execution_count": 1,
   "id": "a78ffb2c-82f6-4c05-bddd-9e26316c749a",
   "metadata": {},
   "outputs": [
    {
     "name": "stdout",
     "output_type": "stream",
     "text": [
      "<class 'pandas.core.frame.DataFrame'>\n",
      "RangeIndex: 100 entries, 0 to 99\n",
      "Data columns (total 10 columns):\n",
      " #   Column        Non-Null Count  Dtype  \n",
      "---  ------        --------------  -----  \n",
      " 0   Name          100 non-null    object \n",
      " 1   Year          100 non-null    int64  \n",
      " 2   Rating        100 non-null    float64\n",
      " 3   Watchers      100 non-null    object \n",
      " 4   Episodes      100 non-null    int64  \n",
      " 5   Ep. Duration  100 non-null    object \n",
      " 6   Aired On      100 non-null    object \n",
      " 7   Genres        100 non-null    object \n",
      " 8   Tags          100 non-null    object \n",
      " 9   Main Actors   100 non-null    object \n",
      "dtypes: float64(1), int64(2), object(7)\n",
      "memory usage: 7.9+ KB\n"
     ]
    }
   ],
   "source": [
    "import pandas as pd \n",
    "import numpy as np\n",
    "\n",
    "df = pd.read_csv(\"k-drama-data.csv\")\n",
    "df.info()"
   ]
  },
  {
   "cell_type": "code",
   "execution_count": 2,
   "id": "b8a427f4-969e-4e65-bdcb-e3ba85ea8465",
   "metadata": {},
   "outputs": [
    {
     "ename": "ModuleNotFoundError",
     "evalue": "No module named 'surprise'",
     "output_type": "error",
     "traceback": [
      "\u001b[1;31m---------------------------------------------------------------------------\u001b[0m",
      "\u001b[1;31mModuleNotFoundError\u001b[0m                       Traceback (most recent call last)",
      "Cell \u001b[1;32mIn[2], line 2\u001b[0m\n\u001b[0;32m      1\u001b[0m \u001b[38;5;66;03m## Hybrid Recommendation System\u001b[39;00m\n\u001b[1;32m----> 2\u001b[0m \u001b[38;5;28;01mfrom\u001b[39;00m \u001b[38;5;21;01msurprise\u001b[39;00m \u001b[38;5;28;01mimport\u001b[39;00m Dataset, Reader, KNNBasic\n\u001b[0;32m      3\u001b[0m \u001b[38;5;28;01mfrom\u001b[39;00m \u001b[38;5;21;01msklearn\u001b[39;00m\u001b[38;5;21;01m.\u001b[39;00m\u001b[38;5;21;01mfeature_extraction\u001b[39;00m\u001b[38;5;21;01m.\u001b[39;00m\u001b[38;5;21;01mtext\u001b[39;00m \u001b[38;5;28;01mimport\u001b[39;00m CountVectorizer\n\u001b[0;32m      5\u001b[0m \u001b[38;5;28;01mdef\u001b[39;00m \u001b[38;5;21mcreate_hybrid_model\u001b[39m():\n\u001b[0;32m      6\u001b[0m     \u001b[38;5;66;03m#content-based features\u001b[39;00m\n",
      "\u001b[1;31mModuleNotFoundError\u001b[0m: No module named 'surprise'"
     ]
    }
   ],
   "source": [
    "## Hybrid Recommendation System\n",
    "from surprise import Dataset, Reader, KNNBasic\n",
    "from sklearn.feature_extraction.text import CountVectorizer\n",
    "\n",
    "def create_hybrid_model():\n",
    "    #content-based features\n",
    "    genre_vectorizer = CountVectorizer(tokenizer=lambda x: x, lowercase=False)\n",
    "    genre_features = genre_vectorizer.fit_transform(df['Genres'])\n",
    "    \n",
    "    # Collaborative filtering (if user ratings available)\n",
    "    reader = Reader(rating_scale=(1, 10))\n",
    "    data = Dataset.load_from_df(ratings_df[['user_id', 'drama_is', 'ratings']]. reader)\n",
    "    sim_options = {'name': 'cosine', 'user_based':False}\n",
    "    cf_model = KNNBasic(sim_options=sim_options)\n",
    "    cf_model.fit(data.build_full_trainset())\n",
    "    return{\n",
    "        'genre_vectorier': genre_vectorizer,\n",
    "        'cf_model': cf_model,\n",
    "        'content_sim_matrix': cosine_similarity(genre_features)\n",
    "    }\n",
    "    "
   ]
  },
  {
   "cell_type": "code",
   "execution_count": null,
   "id": "fd79a0e8-36ac-40f7-9170-5b5d532a6959",
   "metadata": {},
   "outputs": [],
   "source": [
    "!conda install -c conda-forge scikit-surprise"
   ]
  },
  {
   "cell_type": "code",
   "execution_count": null,
   "id": "84fd41ca-4f89-4657-8c65-935093a3204e",
   "metadata": {},
   "outputs": [],
   "source": []
  }
 ],
 "metadata": {
  "kernelspec": {
   "display_name": "Python 3 (ipykernel)",
   "language": "python",
   "name": "python3"
  },
  "language_info": {
   "codemirror_mode": {
    "name": "ipython",
    "version": 3
   },
   "file_extension": ".py",
   "mimetype": "text/x-python",
   "name": "python",
   "nbconvert_exporter": "python",
   "pygments_lexer": "ipython3",
   "version": "3.12.7"
  }
 },
 "nbformat": 4,
 "nbformat_minor": 5
}

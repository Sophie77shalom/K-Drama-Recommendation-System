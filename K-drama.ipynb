{
 "cells": [
  {
   "cell_type": "markdown",
   "id": "760a4ffb-20cd-47ba-ba6e-014a8a724ae5",
   "metadata": {},
   "source": [
    "# K-drama recommendation system"
   ]
  },
  {
   "cell_type": "code",
   "execution_count": 3,
   "id": "e4ff2b10-525c-45b3-9d4b-9a60c4c1e162",
   "metadata": {},
   "outputs": [
    {
     "name": "stdout",
     "output_type": "stream",
     "text": [
      "<class 'pandas.core.frame.DataFrame'>\n",
      "RangeIndex: 100 entries, 0 to 99\n",
      "Data columns (total 10 columns):\n",
      " #   Column        Non-Null Count  Dtype  \n",
      "---  ------        --------------  -----  \n",
      " 0   Name          100 non-null    object \n",
      " 1   Year          100 non-null    int64  \n",
      " 2   Rating        100 non-null    float64\n",
      " 3   Watchers      100 non-null    object \n",
      " 4   Episodes      100 non-null    int64  \n",
      " 5   Ep. Duration  100 non-null    object \n",
      " 6   Aired On      100 non-null    object \n",
      " 7   Genres        100 non-null    object \n",
      " 8   Tags          100 non-null    object \n",
      " 9   Main Actors   100 non-null    object \n",
      "dtypes: float64(1), int64(2), object(7)\n",
      "memory usage: 7.9+ KB\n"
     ]
    }
   ],
   "source": [
    "import pandas as pd \n",
    "import numpy as np\n",
    "\n",
    "df = pd.read_csv(\"k-drama-data.csv\")\n",
    "df.info()"
   ]
  },
  {
   "cell_type": "code",
   "execution_count": 4,
   "id": "a1112204-3b24-4f47-acca-65bed8b0fc2f",
   "metadata": {},
   "outputs": [
    {
     "data": {
      "text/plain": [
       "Index(['Name', 'Year', 'Rating', 'Watchers', 'Episodes', 'Ep. Duration',\n",
       "       'Aired On', 'Genres', 'Tags', 'Main Actors'],\n",
       "      dtype='object')"
      ]
     },
     "execution_count": 4,
     "metadata": {},
     "output_type": "execute_result"
    }
   ],
   "source": [
    "# Data Loading and Initial Exploration\n",
    "\n",
    "import pandas as pd\n",
    "import numpy as np\n",
    "import matplotlib.pyplot as plt\n",
    "import seaborn as sns\n",
    "from sklearn.feature_extraction.text import TfidfVectorizer\n",
    "from sklearn.metrics.pairwise import cosine_similarity\n",
    "from ast import literal_eval\n",
    "\n",
    "# load the dataset\n",
    "df.columns"
   ]
  },
  {
   "cell_type": "code",
   "execution_count": 5,
   "id": "6ff29a64-cf71-4cc0-b2f4-5f7c295b24b4",
   "metadata": {},
   "outputs": [
    {
     "name": "stdout",
     "output_type": "stream",
     "text": [
      "Name              0\n",
      "Year              0\n",
      "Rating            0\n",
      "Watchers          0\n",
      "Episodes          0\n",
      "Ep. Duration    100\n",
      "Aired On          0\n",
      "Genres            0\n",
      "Tags              0\n",
      "Main Actors       0\n",
      "dtype: int64\n"
     ]
    }
   ],
   "source": [
    "# Data Cleaning and Preprocessing\n",
    "\n",
    "from ast import literal_eval\n",
    "import pandas as pd\n",
    "\n",
    "# clean numerical columns\n",
    "df['Watchers'] = df['Watchers'].astype(str).str.replace(',', '').replace('nan', '0')\n",
    "df['Watchers'] = pd.to_numeric(df['Watchers'], errors='coerce')\n",
    "\n",
    "df['Ep. Duration'] = df['Ep. Duration'].astype(str).str.replace(' min', '').replace('nan', '0')\n",
    "df['Ep. Duration'] = pd.to_numeric(df['Ep. Duration'], errors='coerce')\n",
    "\n",
    "# Safe function to handle literal_eval errors\n",
    "def safe_literal_eval(val):\n",
    "    if pd.isna(val) or val == '' or str(val).lower() == 'nan':\n",
    "        return []\n",
    "    try:\n",
    "         \n",
    "        if isinstance(val, str) and val.startswith('[') and val.endswith(']'):\n",
    "            return literal_eval(val)\n",
    "        else:\n",
    "            return []\n",
    "    except (ValueError, SyntaxError):\n",
    "        return []\n",
    "\n",
    "# convert string lists to actual lists safely\n",
    "df['Genres'] = df['Genres'].apply(safe_literal_eval)\n",
    "df['Tags'] = df['Tags'].apply(safe_literal_eval)\n",
    "df['Main Actors'] = df['Main Actors'].apply(safe_literal_eval)\n",
    "\n",
    "# categorical features\n",
    "df['Aired On'] = df['Aired On'].astype('category')\n",
    "\n",
    "# check for missing values\n",
    "print(df.isnull().sum())"
   ]
  },
  {
   "cell_type": "code",
   "execution_count": 6,
   "id": "05ae0d88-0e45-49b9-8584-16e8cd5ca905",
   "metadata": {},
   "outputs": [],
   "source": [
    "# Feature Engineering\n",
    "\n",
    "# Create a combined text feature for content-based filtering\n",
    "df['Combined_Features'] = df.apply(lambda row: \n",
    "    ' '.join(row['Genres']) + ' ' + \n",
    "    ' '.join(row['Tags']) + ' ' + \n",
    "    ' '.join(row['Main Actors']) + ' ' + \n",
    "    row['Aired On'], axis=1)\n",
    "\n",
    "# Create popularity score based on rating and watchers\n",
    "df['Popularity_Score'] = (df['Rating'] * 0.7) + (df['Watchers'] * 0.3)"
   ]
  },
  {
   "cell_type": "code",
   "execution_count": 7,
   "id": "d3d7f775-192c-485b-b1c3-16949b51f41a",
   "metadata": {},
   "outputs": [],
   "source": [
    "# Vectorization and Similarity Matrix\n",
    "\n",
    "from sklearn.feature_extraction.text import TfidfVectorizer\n",
    "from sklearn.metrics.pairwise import cosine_similarity\n",
    "\n",
    "# Initialize TF-IDF Vectorizer\n",
    "tfidf = TfidfVectorizer(stop_words='english')\n",
    "\n",
    "# Construct the TF-IDF matrix\n",
    "tfidf_matrix = tfidf.fit_transform(df['Combined_Features'])\n",
    "\n",
    "# Compute the cosine similarity matrix\n",
    "cosine_sim = cosine_similarity(tfidf_matrix, tfidf_matrix)\n",
    "\n",
    "# Create a reverse mapping of indices and drama titles\n",
    "indices = pd.Series(df.index, index=df['Name']).drop_duplicates()"
   ]
  },
  {
   "cell_type": "code",
   "execution_count": 8,
   "id": "69675b93-7dd3-4e2b-a07e-5ea36defaf15",
   "metadata": {},
   "outputs": [
    {
     "name": "stdout",
     "output_type": "stream",
     "text": [
      "                       Name Genres  Rating  Popularity_Score\n",
      "6      Crash Landing on You     []     9.0          62680.20\n",
      "8            Hotel del Luna     []     8.6          55085.42\n",
      "11                 Vincenzo     []     8.9          51525.23\n",
      "29     Hometown Cha-Cha-Cha     []     8.7          39627.39\n",
      "31         Alchemy of Souls     []     9.1          38712.37\n",
      "38  Romance Is a Bonus Book     []     8.1          35726.97\n",
      "46   Twenty-Five Twenty-One     []     8.8          33850.36\n",
      "48                 Start-Up     []     8.1          33564.57\n",
      "52      The Uncanny Counter     []     8.8          32388.16\n",
      "56            Secret Garden     []     8.2          31884.34\n"
     ]
    }
   ],
   "source": [
    "# Building the Recommendation Function\n",
    "\n",
    "def get_recommendations(title, cosine_sim=cosine_sim, df=df, indices=indices):\n",
    "    # get the index of the drama that matches the title\n",
    "    idx = indices[title]\n",
    "    \n",
    "    # get the pairwise similarity scores\n",
    "    sim_scores = list(enumerate(cosine_sim[idx]))\n",
    "                      \n",
    "    # sort the dramas based on the similarity scores\n",
    "    sim_scores = sorted(sim_scores, key=lambda x:x[1], reverse=True)\n",
    "    \n",
    "    # get the scores of the 10 most similar dramas\n",
    "    sim_scores = sim_scores[1:11]\n",
    "    \n",
    "    # get the drama indices \n",
    "    drama_indices = [i[0] for i in sim_scores]\n",
    "    \n",
    "    # return the top 10 most similar dramas\n",
    "    return df[['Name', 'Genres', 'Rating', 'Popularity_Score']].iloc[drama_indices]\n",
    "\n",
    "# test the function\n",
    "print(get_recommendations('Crash Landing on You'))"
   ]
  },
  {
   "cell_type": "code",
   "execution_count": 9,
   "id": "0cce385a-fc84-478f-abf1-a9c8801174cb",
   "metadata": {},
   "outputs": [
    {
     "name": "stdout",
     "output_type": "stream",
     "text": [
      "                              Name Genres  Rating  Popularity_Score_x  \\\n",
      "0        Strong Woman Do Bong Soon     []     8.7            71937.99   \n",
      "1                    Itaewon Class     []     8.4            45301.98   \n",
      "2          My ID is Gangnam Beauty     []     7.8            43178.16   \n",
      "3                       Reply 1988     []     9.1            37040.17   \n",
      "4                           The K2     []     8.2            36201.34   \n",
      "5  Cinderella and the Four Knights     []     7.8            35631.06   \n",
      "6        The King: Eternal Monarch     []     8.1            34069.17   \n",
      "7                      Oh My Ghost     []     8.3            30868.91   \n",
      "8                         My Demon     []     8.2            30139.54   \n",
      "9                         Tomorrow     []     8.8            29892.76   \n",
      "\n",
      "   Popularity_Score_y  Hybrid_Score  \n",
      "0            71937.99     21587.487  \n",
      "1            45301.98     13596.474  \n",
      "2            43178.16     12958.908  \n",
      "3            37040.17     11118.421  \n",
      "4            36201.34     10866.142  \n",
      "5            35631.06     10694.778  \n",
      "6            34069.17     10226.421  \n",
      "7            30868.91      9266.483  \n",
      "8            30139.54      9047.602  \n",
      "9            29892.76      8973.988  \n"
     ]
    }
   ],
   "source": [
    "# Hybrid Recommendation System(Content and Popularity)\n",
    "\n",
    "def hybrid_recommendations(title, cosine_sim=cosine_sim, df=df, indices=indices):\n",
    "    # Get content_based recommendations\n",
    "    content_recs = get_recommendations(title, cosine_sim, df, indices)\n",
    "    \n",
    "    # Get popularity scores for these recommendations\n",
    "    content_recs = content_recs.merge(\n",
    "        df[['Name', 'Popularity_Score']],\n",
    "        on='Name',\n",
    "        how='left'\n",
    "    )\n",
    "    \n",
    "    # Sort by a combination of similarity and popularity\n",
    "    content_recs['Hybrid_Score'] = content_recs['Popularity_Score_y'] * 0.3 + content_recs['Rating'] * 0.7\n",
    "    content_recs = content_recs.sort_values('Hybrid_Score', ascending=False)\n",
    "    \n",
    "    return content_recs.head(10)\n",
    "\n",
    "# Test the hybrid function\n",
    "print(hybrid_recommendations('Itaewon Class'))"
   ]
  },
  {
   "cell_type": "code",
   "execution_count": 10,
   "id": "ef8a2373-1131-44eb-8b6b-48c0427bf272",
   "metadata": {},
   "outputs": [
    {
     "name": "stdout",
     "output_type": "stream",
     "text": [
      "Average genre overlap: 0.00\n"
     ]
    }
   ],
   "source": [
    "# Evaluation Metrics\n",
    "\n",
    "from sklearn.model_selection import train_test_split\n",
    "\n",
    "# Evaluation based on genre matching\n",
    "def evaluate_recommendations(title, recommendations):\n",
    "    # Get genres of the input drama\n",
    "    input_genres = set(df[df['Name'] == title]['Genres'].iloc[0])\n",
    "    \n",
    "    if not input_genres:\n",
    "        return 0.0\n",
    "    \n",
    "    # Calculate genre overlap for recommendations\n",
    "    genre_overlap = []\n",
    "    for _, row in recommendations.iterrows():\n",
    "        rec_genres = set(row['Genres'])\n",
    "        overlap = len(input_genres.intersection(rec_genres)) / len(input_genres.union(rec_genres))\n",
    "        genre_overlap.append(genre_overlap)\n",
    "        \n",
    "        return np.mean(genre_overlap)\n",
    "\n",
    "# Test evaluation\n",
    "recs = hybrid_recommendations('Crash Landing on You')\n",
    "print(f\"Average genre overlap: {evaluate_recommendations('Crash Landing on You', recs):.2f}\")"
   ]
  },
  {
   "cell_type": "code",
   "execution_count": 11,
   "id": "722be1bb-7a1b-4787-a66b-e52bdaea9d65",
   "metadata": {},
   "outputs": [
    {
     "name": "stdout",
     "output_type": "stream",
     "text": [
      "Testing with 'Crash Landing on You':\n",
      "\n",
      "Final Average Genre Overlap: 0.00\n",
      "\n",
      "Testing edge cases:\n",
      "Empty genres: 0.00\n"
     ]
    }
   ],
   "source": [
    "# Test with debug mode on\n",
    "print(\"Testing with 'Crash Landing on You':\")\n",
    "recs = hybrid_recommendations('Crash Landing on You')\n",
    "overlap_score = evaluate_recommendations('Crash Landing on You', recs)\n",
    "print(f\"\\nFinal Average Genre Overlap: {overlap_score:.2f}\")\n",
    "\n",
    "# Test edge cases\n",
    "print(\"\\nTesting edge cases:\")\n",
    "empty_recs = pd.DataFrame([{'Name': 'Test', 'Genres': []}])\n",
    "print(f\"Empty genres: {evaluate_recommendations('Crash Landing on You', empty_recs):.2f}\")"
   ]
  },
  {
   "cell_type": "code",
   "execution_count": 12,
   "id": "8854fc7e-6d89-4015-a041-1964a69e466d",
   "metadata": {},
   "outputs": [
    {
     "name": "stdout",
     "output_type": "stream",
     "text": [
      "Model saved successfully to kdrama_recommender.pkl\n"
     ]
    }
   ],
   "source": [
    "# Save the model to pkl\n",
    "\n",
    "import pickle\n",
    "from sklearn.feature_extraction.text import TfidfVectorizer\n",
    "\n",
    "# Save all necessary components to a dictionary\n",
    "model_components = {\n",
    "    'cosine_sim': cosine_sim,   \n",
    "    'df': df,                   \n",
    "    'indices': indices,         \n",
    "    'tfidf': tfidf  \n",
    "}\n",
    "\n",
    "# Save to pickle file\n",
    "with open('kdrama_recommender.pkl', 'wb') as f:\n",
    "    pickle.dump(model_components, f)\n",
    "\n",
    "print(\"Model saved successfully to kdrama_recommender.pkl\")"
   ]
  },
  {
   "cell_type": "code",
   "execution_count": null,
   "id": "42a8a491-be2e-4557-97c9-4c8a74c4aca3",
   "metadata": {},
   "outputs": [],
   "source": []
  }
 ],
 "metadata": {
  "kernelspec": {
   "display_name": "Python 3 (ipykernel)",
   "language": "python",
   "name": "python3"
  },
  "language_info": {
   "codemirror_mode": {
    "name": "ipython",
    "version": 3
   },
   "file_extension": ".py",
   "mimetype": "text/x-python",
   "name": "python",
   "nbconvert_exporter": "python",
   "pygments_lexer": "ipython3",
   "version": "3.12.7"
  }
 },
 "nbformat": 4,
 "nbformat_minor": 5
}
